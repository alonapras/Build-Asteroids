{
 "cells": [
  {
   "cell_type": "markdown",
   "id": "b99cfb01-00d0-42eb-828b-8ddf88e29604",
   "metadata": {},
   "source": [
    "**Delta Time**"
   ]
  },
  {
   "cell_type": "raw",
   "id": "1db51029-3a34-4925-986a-2ec57871103c",
   "metadata": {},
   "source": [
    "In math, the Greek letter delta (Δ) is often used to represent a change in a value. In game development, we use \"delta time\" to represent the amount of time that has passed since the last frame was drawn. This value is useful to decouple the game's speed from the speed it's being drawn to the screen."
   ]
  },
  {
   "cell_type": "raw",
   "id": "a2d5f6bb-6b47-400e-ac7e-44a827e0ebff",
   "metadata": {},
   "source": [
    "FPS stands for frames per second. We're going to restrict our game to draw a maximum of 60 times per second, or 60 FPS\n",
    "https://en.wikipedia.org/wiki/Frame_rate"
   ]
  },
  {
   "cell_type": "raw",
   "id": "2ae9cc62-c1e3-4d4a-85bc-be17729fc834",
   "metadata": {},
   "source": [
    "1. After initializing pygame, but before the gameloop starts, create:\n",
    "- A new pygame.time.Clock object.\n",
    "- A dt variable set to 0.\n",
    "\n",
    "2. At the end of each iteration of the game loop, call the .tick() method, and pass it 60. It will pause the game loop until 1/60th of a second has passed.\n",
    "\n",
    "3. The .tick() method also returns the amount of time that has passed since the last time it was called: the delta time. Divide the return value by 1000 (to convert from milliseconds to seconds) and save it into the dt variable we created earlier. We're not using dt yet, but we will later.\n",
    "\n",
    "4. Re-run the game. You should still see the same black screen, but this time it should use less of your system's resources!"
   ]
  }
 ],
 "metadata": {
  "kernelspec": {
   "display_name": "Python 3 (ipykernel)",
   "language": "python",
   "name": "python3"
  },
  "language_info": {
   "codemirror_mode": {
    "name": "ipython",
    "version": 3
   },
   "file_extension": ".py",
   "mimetype": "text/x-python",
   "name": "python",
   "nbconvert_exporter": "python",
   "pygments_lexer": "ipython3",
   "version": "3.11.6"
  }
 },
 "nbformat": 4,
 "nbformat_minor": 5
}
