{
 "cells": [
  {
   "cell_type": "markdown",
   "id": "faffd40f-c5f1-4422-b857-f9eac4f7e690",
   "metadata": {},
   "source": [
    "**Gameloop**"
   ]
  },
  {
   "cell_type": "raw",
   "id": "e6afa7e8-3d5e-4d49-91ac-08f740c5e08c",
   "metadata": {},
   "source": [
    "1. Check for player inputs\n",
    "2. Update the game world\n",
    "3. Draw the game to the screen\n",
    "\n",
    "To create a good user experience, these 3 steps need to happen many times per second.\n",
    "\n",
    "https://gameprogrammingpatterns.com/game-loop.html"
   ]
  },
  {
   "cell_type": "raw",
   "id": "74345e8a-630c-4409-be11-80217c7a160f",
   "metadata": {},
   "source": [
    "1. import pygame at the top of your main.py file. The pygame documentation will be super useful throughout this project.\n",
    "https://www.pygame.org/docs/ref/pygame.html\n",
    "\n",
    "2. Initialize pygame at the beginning of your main() function (take a look at the docs for the syntax).\n",
    "https://www.pygame.org/docs/ref/pygame.html#pygame.init\n",
    "\n",
    "3. Ensure our predefined constants (constants.py) SCREEN_WIDTH and SCREEN_HEIGHT are imported at the top of your file:"
   ]
  },
  {
   "cell_type": "code",
   "execution_count": null,
   "id": "ea40142c-c57d-4217-81bf-dada9e31d30a",
   "metadata": {},
   "outputs": [],
   "source": [
    "from constants import *"
   ]
  },
  {
   "cell_type": "raw",
   "id": "ac4458ac-d5a3-4715-9626-2abb914e3259",
   "metadata": {},
   "source": [
    "Note: Because this is a smaller project, and we don't risk conflicting import names, we're going to use a wildcard import for convenience. In a larger project, you'd want to import only the constants you need.\n",
    "\n",
    "4. Use pygame's display.set_mode() to get a new GUI window:"
   ]
  },
  {
   "cell_type": "code",
   "execution_count": null,
   "id": "858f682d-4d5a-4da2-89ef-063dd603b6cb",
   "metadata": {},
   "outputs": [],
   "source": [
    "screen = pygame.display.set_mode((SCREEN_WIDTH, SCREEN_HEIGHT))"
   ]
  },
  {
   "cell_type": "raw",
   "id": "4efac7ab-2f6c-45c1-bbbd-8fd475e47080",
   "metadata": {},
   "source": [
    "5. Create the game loop. For now, we'll only worry about step 3: drawing the game onto the screen.\n",
    "- Use an infinite while loop for the game loop. At each iteration, it should:\n",
    "https://realpython.com/python-while-loop/#infinite-loops\n",
    "\n",
    "- Use the screen's fill method to fill the screen with a solid \"black\" color.\n",
    "https://www.pygame.org/docs/ref/surface.html#pygame.Surface.fill\n",
    "\n",
    "- Use pygame's display.flip() method to refresh the screen. Be sure to call this last!\n",
    "https://www.pygame.org/docs/ref/display.html#pygame.display.flip"
   ]
  },
  {
   "cell_type": "raw",
   "id": "7c00a28d-f571-4a28-8b1a-f0de29204bfa",
   "metadata": {},
   "source": [
    "6. It's a good idea to run and test your game frequently as you write code , to make sure it's working as expected:\n",
    "You should see a black window open and stay open."
   ]
  },
  {
   "cell_type": "code",
   "execution_count": null,
   "id": "d10a0948-9bea-4799-9f4d-55c767962b33",
   "metadata": {},
   "outputs": [],
   "source": [
    "python3 main.py"
   ]
  },
  {
   "cell_type": "raw",
   "id": "e803803d-fa7c-4826-a1d4-b01ee15315dc",
   "metadata": {},
   "source": [
    "7. Close the game and kill the program with Ctrl+C in the terminal.\n",
    "\n",
    "8. Add the following code to the beginning of each iteration of the game loop:\n",
    "This will check if the user has closed the window and exit the game loop if they do. It will make the window's close button work."
   ]
  },
  {
   "cell_type": "code",
   "execution_count": null,
   "id": "4c592d15-b386-42b7-a579-14585ab5e2bf",
   "metadata": {},
   "outputs": [],
   "source": [
    "for event in pygame.event.get():\n",
    "    if event.type == pygame.QUIT:\n",
    "        return"
   ]
  },
  {
   "cell_type": "raw",
   "id": "4ff0bdcc-e0cb-4ecd-a1f2-548bbd8ab729",
   "metadata": {},
   "source": [
    "9. Create a .gitignore file and add the following:\n",
    "\n",
    "venv/\n",
    "__pycache__/"
   ]
  },
  {
   "cell_type": "raw",
   "id": "7f15457c-9677-417b-a0a4-a0bef43d52bd",
   "metadata": {},
   "source": [
    "10. Make a git commit! It's a good idea to commit your progress whenever you get something new working."
   ]
  }
 ],
 "metadata": {
  "kernelspec": {
   "display_name": "Python 3 (ipykernel)",
   "language": "python",
   "name": "python3"
  },
  "language_info": {
   "codemirror_mode": {
    "name": "ipython",
    "version": 3
   },
   "file_extension": ".py",
   "mimetype": "text/x-python",
   "name": "python",
   "nbconvert_exporter": "python",
   "pygments_lexer": "ipython3",
   "version": "3.11.6"
  }
 },
 "nbformat": 4,
 "nbformat_minor": 5
}
