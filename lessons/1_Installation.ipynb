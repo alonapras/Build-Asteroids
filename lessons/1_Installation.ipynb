{
 "cells": [
  {
   "cell_type": "markdown",
   "id": "91975bbe-cc42-4bc2-8c87-f3beb43defee",
   "metadata": {},
   "source": [
    "**Pygame**"
   ]
  },
  {
   "cell_type": "raw",
   "id": "e61b4be6-6047-4339-8b73-a5ebae664d2d",
   "metadata": {},
   "source": [
    "Pygame is a module for developing games using Python\n",
    "https://www.pygame.org/news"
   ]
  },
  {
   "cell_type": "markdown",
   "id": "f21a689b-69b8-408a-a0bf-c4874cd64949",
   "metadata": {},
   "source": [
    "**Virtual Environment (venv)**"
   ]
  },
  {
   "cell_type": "raw",
   "id": "f30671e4-73e9-4b45-8cec-cc9c8cc52727",
   "metadata": {},
   "source": [
    "Virtual environments are Python's way to keep dependencies (e.g. the pygame module) separate from other projects on our machine.\n",
    "https://docs.python.org/3/library/venv.html\n",
    "\n",
    "As a best practice, each Python project on your machine should have its own virtual environment to keep them isolated from each other."
   ]
  },
  {
   "cell_type": "code",
   "execution_count": null,
   "id": "010ff6a4-83e4-4fc4-afa8-27bc29df9991",
   "metadata": {},
   "outputs": [],
   "source": [
    "# Create a new directory and Git repository for this project somewhere on your computer.\n",
    "# Create a virtual environment at the top level of your project directory:\n",
    ">> python3 -m venv venv"
   ]
  },
  {
   "cell_type": "code",
   "execution_count": null,
   "id": "08de8fda-22d3-4fd8-afad-3ebdbd73d1a7",
   "metadata": {},
   "outputs": [],
   "source": [
    "# Activate the virtual environment:\n",
    ">> source venv/bin/activate"
   ]
  },
  {
   "cell_type": "raw",
   "id": "0326d976-aeed-4e0e-8b4a-4beb696a10b2",
   "metadata": {},
   "source": [
    "Create a file called requirements.txt in the top level of your project directory with the following contents:\n",
    "pygame==2.6.1\n",
    "\n",
    "This tells Python that this project requires pygame version 2.6.1."
   ]
  },
  {
   "cell_type": "code",
   "execution_count": null,
   "id": "250b5418-0013-426e-ab96-f582ce0f0010",
   "metadata": {},
   "outputs": [],
   "source": [
    "# Install the requirements:\n",
    ">> pip install -r requirements.txt\n",
    "\n",
    "# pip is Python's package manager. It will install the pygame module into the virtual environment you created."
   ]
  },
  {
   "cell_type": "code",
   "execution_count": null,
   "id": "5ced4158-854f-4aa7-9b84-46f5e93ff7c1",
   "metadata": {},
   "outputs": [],
   "source": [
    "# Make sure pygame is installed:\n",
    ">> python3 -m pygame"
   ]
  },
  {
   "cell_type": "raw",
   "id": "6f14bd2f-fa83-42df-ba76-9dd91ce0ab86",
   "metadata": {},
   "source": [
    "Boilerplate code, or simply boilerplate\n",
    "\n",
    "let's write just a bit of boilerplate code so that we have a runnable program to build on.\n",
    "are sections of code that are repeated in multiple places with little to no variation. When using languages that are considered verbose, the programmer must write a lot of boilerplate code to accomplish only minor functionality.[1]\n",
    "\n",
    "https://en.wikipedia.org/wiki/Boilerplate_code"
   ]
  },
  {
   "cell_type": "code",
   "execution_count": null,
   "id": "addfa9a0-7248-4db6-86d4-e051c9905b23",
   "metadata": {},
   "outputs": [],
   "source": [
    "# Create a new file called main.py.\n",
    "# On the first line, import pygame:\n",
    ">> import pygame\n",
    "\n",
    "# this allows us to use code from\n",
    "# the open-source pygame library\n",
    "# throughout this file"
   ]
  },
  {
   "cell_type": "raw",
   "id": "b8ccaa22-0bc4-47e7-956d-74d156acce3f",
   "metadata": {},
   "source": [
    "Write a main function that simply prints \"Starting asteroids!\" (use this exact text)."
   ]
  },
  {
   "cell_type": "code",
   "execution_count": null,
   "id": "5bc59122-97d6-4adb-9909-bef8b425ad96",
   "metadata": {},
   "outputs": [],
   "source": [
    "def main():\n",
    "    print(\"Starting asteroids!\")"
   ]
  },
  {
   "cell_type": "code",
   "execution_count": null,
   "id": "eb224bb6-cea9-48cd-aa0a-d382429e5d20",
   "metadata": {},
   "outputs": [],
   "source": [
    "# This line ensures the main() function is only called when this file is run directly; it won't run if it's imported as a module. \n",
    "# It's considered the \"pythonic\" way to structure an executable program in Python.\n",
    "\n",
    "if __name__ == \"__main__\":\n",
    "    main()"
   ]
  },
  {
   "cell_type": "code",
   "execution_count": null,
   "id": "01251349-b8e6-4c1e-b71f-ade47dc6683b",
   "metadata": {},
   "outputs": [],
   "source": [
    "if __name__ == '__main__':\n",
    "    # Anything placed here will never be executed in a module context.\n",
    "    pass\n",
    "\n",
    "if __name__ != '__main__':\n",
    "    # Anything placed here will only be executed in a module context.\n",
    "    pass"
   ]
  },
  {
   "cell_type": "code",
   "execution_count": null,
   "id": "ed43159b-f053-4265-b6ce-94f39630ee08",
   "metadata": {},
   "outputs": [],
   "source": [
    "# Run the program with: \n",
    ">> python3 main.py"
   ]
  }
 ],
 "metadata": {
  "kernelspec": {
   "display_name": "Python 3 (ipykernel)",
   "language": "python",
   "name": "python3"
  },
  "language_info": {
   "codemirror_mode": {
    "name": "ipython",
    "version": 3
   },
   "file_extension": ".py",
   "mimetype": "text/x-python",
   "name": "python",
   "nbconvert_exporter": "python",
   "pygments_lexer": "ipython3",
   "version": "3.11.6"
  }
 },
 "nbformat": 4,
 "nbformat_minor": 5
}
