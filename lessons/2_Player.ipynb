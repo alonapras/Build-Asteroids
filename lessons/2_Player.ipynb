{
 "cells": [
  {
   "cell_type": "markdown",
   "id": "18e4ff2b-8e80-41a6-bf47-9731ff3c4748",
   "metadata": {},
   "source": [
    "**import**"
   ]
  },
  {
   "cell_type": "code",
   "execution_count": null,
   "id": "0978c90f-0de3-4a1b-82b6-73e566592e5b",
   "metadata": {},
   "outputs": [],
   "source": [
    "https://docs.python.org/3/reference/simple_stmts.html#import"
   ]
  },
  {
   "cell_type": "raw",
   "id": "e16b070d-d956-410d-8893-229ef0324bdb",
   "metadata": {},
   "source": [
    "In Python, each .py file is a module, and we can import functions, variables, and classes from one module into another with the import statement. The name of a module is the filename (without the .py extension)."
   ]
  },
  {
   "cell_type": "code",
   "execution_count": null,
   "id": "1e3ce3d2-7982-400c-af0b-f18d5db1359b",
   "metadata": {},
   "outputs": [],
   "source": [
    "# import the connect_database function\n",
    "# and the database_version variable\n",
    "# from database.py into the current file\n",
    "from database import connect_database, database_version"
   ]
  },
  {
   "cell_type": "code",
   "execution_count": null,
   "id": "7c81045b-c03c-416b-9bd7-954cc1059b21",
   "metadata": {},
   "outputs": [],
   "source": [
    "# import everything from the module\n",
    "# database.py into the current file\n",
    "from database import *"
   ]
  },
  {
   "cell_type": "raw",
   "id": "770ef6be-1743-4186-a128-c1825893548a",
   "metadata": {},
   "source": [
    "However, it's generally recommended to avoid wildcard imports (*) as they make your code harder to read and debug. You can read more about this in the Python style guide.\n",
    "\n",
    "https://peps.python.org/pep-0008/#imports"
   ]
  },
  {
   "cell_type": "markdown",
   "id": "42266b2b-64ab-44b9-96ab-026d81b43607",
   "metadata": {},
   "source": [
    "**Magic number**"
   ]
  },
  {
   "cell_type": "raw",
   "id": "5227c434-13bc-4bf8-92dc-dc105de1eaa1",
   "metadata": {},
   "source": [
    "Games often have a lot of magic numbers to represent things like player speeds, item costs, and attack damage. We will use this file as a place to store those kind of constant values.\n",
    "\n",
    "https://en.wikipedia.org/wiki/Magic_number_(programming)"
   ]
  },
  {
   "cell_type": "raw",
   "id": "c6545780-95b0-4098-a09f-cf4d357d1741",
   "metadata": {},
   "source": [
    "Create a new file in your project called constants.py (in the same folder as main.py), and paste this in:"
   ]
  },
  {
   "cell_type": "code",
   "execution_count": null,
   "id": "e1410931-b834-4c60-8cd1-9ac2e628fd4f",
   "metadata": {},
   "outputs": [],
   "source": [
    "SCREEN_WIDTH = 1280\n",
    "SCREEN_HEIGHT = 720\n",
    "\n",
    "ASTEROID_MIN_RADIUS = 20\n",
    "ASTEROID_KINDS = 3\n",
    "ASTEROID_SPAWN_RATE = 0.8  # seconds\n",
    "ASTEROID_MAX_RADIUS = ASTEROID_MIN_RADIUS * ASTEROID_KINDS"
   ]
  },
  {
   "cell_type": "raw",
   "id": "68961100-cd2f-4714-a2b7-73e816406e7f",
   "metadata": {},
   "source": [
    "Import everything from the constants.py file into main.py\n",
    "\n",
    "Because this is a smaller project, and we don't risk conflicting import names, we're going to use a wildcard import for convenience. In a larger project, you'd want to import only the constants you need."
   ]
  },
  {
   "cell_type": "code",
   "execution_count": null,
   "id": "93f7f708-633c-4e24-bf0c-ff670144be38",
   "metadata": {},
   "outputs": [],
   "source": [
    "from constants import *"
   ]
  },
  {
   "cell_type": "raw",
   "id": "20900467-f42e-4fa9-a77a-82e5537e359a",
   "metadata": {},
   "source": [
    "Print out the SCREEN_WIDTH and SCREEN_HEIGHT values when main.py is run. Use the following format:\n",
    "\n",
    "Screen width: 1280\n",
    "Screen height: 720"
   ]
  },
  {
   "cell_type": "code",
   "execution_count": null,
   "id": "14e1cede-0330-4a94-be9e-4100e9768839",
   "metadata": {},
   "outputs": [],
   "source": [
    "print(f\"Screen width: {SCREEN_WIDTH}\\nScreen height: {SCREEN_HEIGHT}\")"
   ]
  }
 ],
 "metadata": {
  "kernelspec": {
   "display_name": "Python 3 (ipykernel)",
   "language": "python",
   "name": "python3"
  },
  "language_info": {
   "codemirror_mode": {
    "name": "ipython",
    "version": 3
   },
   "file_extension": ".py",
   "mimetype": "text/x-python",
   "name": "python",
   "nbconvert_exporter": "python",
   "pygments_lexer": "ipython3",
   "version": "3.11.6"
  }
 },
 "nbformat": 4,
 "nbformat_minor": 5
}
